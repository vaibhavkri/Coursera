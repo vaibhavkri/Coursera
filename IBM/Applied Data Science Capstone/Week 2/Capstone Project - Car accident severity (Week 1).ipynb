{
 "cells": [
  {
   "cell_type": "markdown",
   "metadata": {},
   "source": [
    "# IBM Applied Data Science  Capstone"
   ]
  },
  {
   "cell_type": "markdown",
   "metadata": {},
   "source": [
    "## Peer-graded Assignment: Capstone Project - Car accident severity (Week 1)"
   ]
  },
  {
   "cell_type": "markdown",
   "metadata": {},
   "source": [
    "<hr>\n",
    "\n",
    "### A description of the problem and a discussion of the background\n",
    "\n",
    "<hr>\n",
    "    "
   ]
  },
  {
   "cell_type": "markdown",
   "metadata": {},
   "source": [
    "# Problem"
   ]
  },
  {
   "cell_type": "markdown",
   "metadata": {},
   "source": [
    "Extreme weather and unsuitable road conditions may lead to an accident. The problem is to predict the severity of an accident given the weather and the road conditions.  This information can be used to change the driving to be more careful or to change the mode of travel if possible.\n",
    "\n",
    " In this project, I attempt to predict road accidents before they happen, so the drivers can take precautions to avoid traffic jam due to accidents or even prevent accidents from happening\n"
   ]
  }
 ],
 "metadata": {
  "kernelspec": {
   "display_name": "Python 3",
   "language": "python",
   "name": "python3"
  },
  "language_info": {
   "codemirror_mode": {
    "name": "ipython",
    "version": 3
   },
   "file_extension": ".py",
   "mimetype": "text/x-python",
   "name": "python",
   "nbconvert_exporter": "python",
   "pygments_lexer": "ipython3",
   "version": "3.7.6"
  }
 },
 "nbformat": 4,
 "nbformat_minor": 4
}
